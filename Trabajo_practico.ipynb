{
  "nbformat": 4,
  "nbformat_minor": 0,
  "metadata": {
    "colab": {
      "provenance": [],
      "authorship_tag": "ABX9TyMg11ap6GFvkWS7XuSiJGfq",
      "include_colab_link": true
    },
    "kernelspec": {
      "name": "python3",
      "display_name": "Python 3"
    },
    "language_info": {
      "name": "python"
    }
  },
  "cells": [
    {
      "cell_type": "markdown",
      "metadata": {
        "id": "view-in-github",
        "colab_type": "text"
      },
      "source": [
        "<a href=\"https://colab.research.google.com/github/juanmiparrales/trabajo-final/blob/main/Trabajo_practico.ipynb\" target=\"_parent\"><img src=\"https://colab.research.google.com/assets/colab-badge.svg\" alt=\"Open In Colab\"/></a>"
      ]
    },
    {
      "cell_type": "markdown",
      "source": [
        "Juan Miguel Parrales Cáceres\n",
        "Enlace: https: https://colab.research.google.com/drive/16n-jy5QHHau_keroJ7T3fKbW0iEIumZU?usp=sharing\n",
        "\n",
        "https://github.com/juanmiparrales/trabajo-final"
      ],
      "metadata": {
        "id": "Rzjm35fIJd8Z"
      }
    },
    {
      "cell_type": "markdown",
      "source": [
        "#Problema a tratar"
      ],
      "metadata": {
        "id": "T19bmRLSUBYl"
      }
    },
    {
      "cell_type": "markdown",
      "source": [
        "El problema consiste en analizar el siguiente problema y diseñar un algoritmo que lo resuelva.\n",
        "• Disponemos de las 9 cifras del 1 al 9 (excluimos el cero) y de los 4 signos básicos de las\n",
        "operaciones fundamentales: suma(+), resta(-), multiplicación(*) y división(/)\n",
        "• Debemos combinarlos alternativamente sin repetir ninguno de ellos para obtener una cantidad\n",
        "dada. Un ejemplo sería para obtener el 4:\n",
        "4+2-6/3*1 = 4"
      ],
      "metadata": {
        "id": "jDL998vj1F0L"
      }
    },
    {
      "cell_type": "markdown",
      "source": [
        "#¿Cuantas posibilidades hay sin tener en cuenta las restricciones?<br>\n",
        "\n"
      ],
      "metadata": {
        "id": "JAEE6yiR1HRo"
      }
    },
    {
      "cell_type": "markdown",
      "source": [
        "Se entiende que tenemos 9 números y 5 signos que se pueden combinar una operación cualquiera que de la cantidad deseada. Por ello, se entiende que se pueden repetir tanto operadores como signos.\n",
        "\n",
        "Entonces, tenemos 9^n posibilidades de elegir los números y 4^m de elegir los signos.\n",
        "\n",
        "Si calculamos su total nos sale (9^n)*(4^m), lo que nos lleva a posibilidades enormes por poder calcular cualquier número."
      ],
      "metadata": {
        "id": "r2RrsRxqUVBV"
      }
    },
    {
      "cell_type": "markdown",
      "source": [
        "# ¿Cuantas posibilidades hay teniendo en cuenta todas las restricciones?"
      ],
      "metadata": {
        "id": "tjYUMo3LT7or"
      }
    },
    {
      "cell_type": "markdown",
      "source": [
        "Se necesitan realizar variaciones sin repetición de 5 numeros sobre 9 (total). Eso hace un total de 15120.\n",
        "\n",
        "Por otro lado, tenemos permutaciones de 4 elementos (signos) sin repetición. Eso hace un total de 24.\n",
        "\n",
        "Si multiplicamos estas dos operaciones obtenemos un total de: 362880."
      ],
      "metadata": {
        "id": "TBh71xnpUT61"
      }
    },
    {
      "cell_type": "code",
      "source": [
        "import itertools"
      ],
      "metadata": {
        "id": "pyEENA3v0_rN"
      },
      "execution_count": 61,
      "outputs": []
    },
    {
      "cell_type": "markdown",
      "source": [
        "#Utilizando backtracking"
      ],
      "metadata": {
        "id": "R-AbPVBWYaB3"
      }
    },
    {
      "cell_type": "code",
      "source": [
        "def backtrack(numeros, operadores, objetivo, camino, resultados, operadores_usados):\n",
        "    # Si no quedan números, se evalúa el camino actual y se agrega a resultados si coincide con el objetivo\n",
        "    if not numeros:\n",
        "        if eval(camino) == objetivo:\n",
        "            resultados.append(camino)\n",
        "            return\n",
        "    # Se recorren todos los números disponibles\n",
        "    for i in range(len(numeros)):\n",
        "        # Se construye el camino actual con el número actual\n",
        "        camino_actual = camino + str(numeros[i])\n",
        "        # Si quedan más números después de este\n",
        "        if numeros[i+1:]:\n",
        "            # Se recorren todos los operadores disponibles\n",
        "            for j in range(len(operadores)):\n",
        "                # Si el operador aún no ha sido usado\n",
        "                if j not in operadores_usados:\n",
        "                    # Se agrega el índice del operador a operadores_usados\n",
        "                    operadores_usados.append(j)\n",
        "                    # Se llama a backtrack recursivamente con los números restantes y el operador actual\n",
        "                    backtrack(numeros[:i] + numeros[i+1:], operadores, objetivo, camino_actual + operadores[j], resultados, operadores_usados)\n",
        "                    # Se elimina el índice del operador de operadores_usados\n",
        "                    operadores_usados.pop()\n",
        "        # Si no quedan más números y se han usado todos los operadores\n",
        "        elif len(operadores_usados) == len(operadores) and eval(camino_actual) == objetivo:\n",
        "            resultados.append(camino_actual)\n",
        "            return\n",
        "\n",
        "def obtener_operaciones(objetivo):\n",
        "    numeros = [1, 2, 3, 4, 5, 6, 7, 8, 9]\n",
        "    operadores = ['+', '-', '*', '/']\n",
        "    resultados = []\n",
        "    backtrack(numeros, operadores, objetivo, \"\", resultados, [])\n",
        "    # Si hay resultados disponibles, se devuelve el primero, sino se devuelve None\n",
        "    return print(f\"La combinación para {objetivo} es: {resultados[0]}\")  if resultados else None\n"
      ],
      "metadata": {
        "id": "M9L8Y6g8YZgm"
      },
      "execution_count": 62,
      "outputs": []
    },
    {
      "cell_type": "markdown",
      "source": [
        "#Diseña un algoritmo para resolver el problema por fuerza bruta"
      ],
      "metadata": {
        "id": "QTwA7BQ4jE48"
      }
    },
    {
      "cell_type": "code",
      "source": [
        "def variacion(l, nc):\n",
        "\n",
        "  def indexes(nelements,nc):  # nc>=2\n",
        "      s=range(nelements)\n",
        "      res=[(i,j) for i in s for j in s]\n",
        "      for n in range(nc-2):\n",
        "          res=[(i,)+t for i in s for t in res]\n",
        "      return (t for t in res if len(set(t))==nc)\n",
        "\n",
        "  return ( [l[i] for i in t] for t in indexes(len(l),nc) )\n",
        "\n",
        "  "
      ],
      "metadata": {
        "id": "RnHvSL7UiI_a"
      },
      "execution_count": 63,
      "outputs": []
    },
    {
      "cell_type": "code",
      "source": [
        "def fuerza_bruta(solucion):\n",
        "    num = [1,2,3,4,5,6,7,8,9] \n",
        "    sig = ['+', '-', '*', '/']#4!\n",
        "\n",
        "    numeros = list(variacion(num,5))#Variacion de 9,5\n",
        "    signos = list(itertools.permutations(sig))#4!\n",
        "\n",
        "    for i in signos:#iteramos entre los signos y números\n",
        "        for j in numeros:\n",
        "            combinaciones = str(j[0]) + i[0] + str(j[1]) + i[1] + str(j[2]) + i[2] + str(j[3]) + i[3] + str(j[4])\n",
        "                \n",
        "            if (eval(combinaciones) == solucion): #Comprobamos que la solución sea correcta\n",
        "                return print(f\"La combinación para {solucion} es: {combinaciones}\")"
      ],
      "metadata": {
        "id": "gCZiil0zMa_b"
      },
      "execution_count": 64,
      "outputs": []
    },
    {
      "cell_type": "markdown",
      "source": [
        "#Diseña un algoritmo que mejore la complejidad del algortimo por fuerza bruta. Argumenta porque crees que mejora el algoritmo por fuerza bruta"
      ],
      "metadata": {
        "id": "Oz7fHcX-TC0D"
      }
    },
    {
      "cell_type": "markdown",
      "source": [
        "El algoritmo de poda que se propone reduce un gran numero de posibilidades porque elimina las operaciones que se repiten con la propiedad conmutativa, tanto para la suma como para la multiplicación."
      ],
      "metadata": {
        "id": "nWdO1R29edQY"
      }
    },
    {
      "cell_type": "code",
      "source": [
        "def poda_ramas(combinaciones):\n",
        "    #La poda está basada en que no se repitan ni las sumas ni las multiplicaciones con la propiedad conmutativa. \n",
        "    #Es decir, si ya existe un 4*3, elimina las operaciones con 3*4.\n",
        "\n",
        "    suma = combinaciones[combinaciones.index('+')-1] < combinaciones[combinaciones.index('+')+1]\n",
        "    multiplicacion = combinaciones[combinaciones.index('*')-1] > combinaciones[combinaciones.index('*')+1]\n",
        "            \n",
        "    if suma and multiplicacion: #Si se cumplen ambas condiciones devolvemos true\n",
        "        return True\n",
        "\n",
        "    return False"
      ],
      "metadata": {
        "id": "ncin6_qkv3ja"
      },
      "execution_count": 65,
      "outputs": []
    },
    {
      "cell_type": "code",
      "source": [
        "def poda(solucion):\n",
        "    num = [1,2,3,4,5,6,7,8,9] \n",
        "    sig = ['+', '-', '*', '/']#4!\n",
        "\n",
        "    numeros = list(variacion(num,5))#Variacion de 9,5\n",
        "    signos = list(itertools.permutations(sig))#4!\n",
        "\n",
        "    for i in signos:#iteramos entre los signos y números\n",
        "        for j in numeros:\n",
        "            combinaciones = str(j[0]) + i[0] + str(j[1]) + i[1] + str(j[2]) + i[2] + str(j[3]) + i[3] + str(j[4])\n",
        "                \n",
        "            if poda_ramas(combinaciones) and (eval(combinaciones) == solucion): #Realizamos poda sobre las ramas que no cumplen los requisitos\n",
        "                    return print(f\"La combinación para {solucion} es: {combinaciones}\")\n",
        "    \n",
        "    return print(\"Es imposible encontrar una solucion\")"
      ],
      "metadata": {
        "id": "_BDv_-Rof75e"
      },
      "execution_count": 66,
      "outputs": []
    },
    {
      "cell_type": "markdown",
      "source": [
        "#Comparando resultados"
      ],
      "metadata": {
        "id": "8idQsT3FqL4R"
      }
    },
    {
      "cell_type": "code",
      "source": [
        "%%time\n",
        "obtener_operaciones(60)"
      ],
      "metadata": {
        "id": "SvKioA8Yo8bC",
        "colab": {
          "base_uri": "https://localhost:8080/"
        },
        "outputId": "265748da-e412-4c83-aa79-e27b25a3eb14"
      },
      "execution_count": 79,
      "outputs": [
        {
          "output_type": "stream",
          "name": "stdout",
          "text": [
            "La combinación para 60 es: 1-8/2+7*9\n",
            "CPU times: user 521 ms, sys: 1.98 ms, total: 522 ms\n",
            "Wall time: 526 ms\n"
          ]
        }
      ]
    },
    {
      "cell_type": "code",
      "source": [
        "%%time\n",
        "fuerza_bruta(60)"
      ],
      "metadata": {
        "colab": {
          "base_uri": "https://localhost:8080/"
        },
        "id": "Lym1tBPUYQ1m",
        "outputId": "d072352a-0ac2-489c-abdf-3ad4e80e1881"
      },
      "execution_count": 80,
      "outputs": [
        {
          "output_type": "stream",
          "name": "stdout",
          "text": [
            "La combinación para 60 es: 1+7*9-8/2\n",
            "CPU times: user 359 ms, sys: 3.05 ms, total: 362 ms\n",
            "Wall time: 361 ms\n"
          ]
        }
      ]
    },
    {
      "cell_type": "code",
      "source": [
        "%%time\n",
        "poda(60)"
      ],
      "metadata": {
        "colab": {
          "base_uri": "https://localhost:8080/"
        },
        "id": "OPHRh52zYSlm",
        "outputId": "fe3e50e6-55a6-4304-9372-6e11a00c5ba1"
      },
      "execution_count": 81,
      "outputs": [
        {
          "output_type": "stream",
          "name": "stdout",
          "text": [
            "La combinación para 60 es: 1+9*7-8/2\n",
            "CPU times: user 169 ms, sys: 0 ns, total: 169 ms\n",
            "Wall time: 169 ms\n"
          ]
        }
      ]
    },
    {
      "cell_type": "markdown",
      "source": [
        "#¿Cual es la estructura de datos que mejor se adapta al problema? \n"
      ],
      "metadata": {
        "id": "P69p61KvYuj8"
      }
    },
    {
      "cell_type": "markdown",
      "source": [
        "La estructura que se propone son dos arrays con números y operadores. Sin embargo, al usar la función eval se decide cambiar los tipos de datos a string.\n",
        "\n",
        "La estructura que mejor se adapta al problema es un algoritmo de búsqueda. Hay varios como Búsqueda de Amplitud, profundidad o Poda. Sin embargo, en esta práctica se propone utilizar este último."
      ],
      "metadata": {
        "id": "IkA-AhxDYwhF"
      }
    },
    {
      "cell_type": "markdown",
      "source": [
        "#¿Cual es la función objetivo? \n",
        "En este tipo de problemas no existe una función objetivo.\n",
        "\n",
        "#¿Es un problema de maximización o minimización? \n",
        "Es un algoritmo de búsqueda"
      ],
      "metadata": {
        "id": "uaJwN0geEllH"
      }
    },
    {
      "cell_type": "markdown",
      "source": [
        "#Calcula la complejidad del algoritmo: \n",
        "\n",
        "El algoritmo de backtracking nos da una complejidad factorial. Es decir, una me las peores estudiadas.\n",
        "\n",
        "El algoritmo de fuerza bruta, al igual que el de poda, nos ofrece una complenidad de n^2. Por lo que la mejora respecto al anterior es considerable."
      ],
      "metadata": {
        "id": "tqE90Np8HEkl"
      }
    }
  ]
}